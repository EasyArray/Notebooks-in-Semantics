{
 "cells": [
  {
   "cell_type": "code",
   "execution_count": 1,
   "id": "vietnamese-parameter",
   "metadata": {},
   "outputs": [
    {
     "name": "stdout",
     "output_type": "stream",
     "text": [
      "\n",
      "             _    _                  _    _\n",
      "            | |  | |                | |  | |\n",
      "           _| |_ | |__   ___  ___  _| |_ | |__   ___  _ __ _   _  ____\n",
      "          /     \\| '_ \\ / _ \\/ __|/     \\| '_ \\ / _ \\| '__| | | |/ ___)\n",
      "         ( (| |) ) | | | (_) \\__ ( (| |) ) | | | (_) | |  | |_| ( (__\n",
      "          \\_   _/|_| |_|\\___/|___/\\_   _/|_| |_|\\___/|_|   \\__,_|\\__ \\\n",
      "            | |                     | |                            _) )\n",
      "            |_|                     |_|                           (__/\n",
      "\n",
      "        Welcome to the Phosphorus Meaning Engine v2\n",
      "        Created by Ezra Keshet (EzraKeshet.com)\n",
      "\n",
      "    \n"
     ]
    }
   ],
   "source": [
    "%load_ext phosphorus"
   ]
  },
  {
   "cell_type": "markdown",
   "id": "front-instruction",
   "metadata": {},
   "source": [
    "# Models\n",
    "\n",
    "We can consider meanings ways of conveying information about the world. In other worlds, when I know something about the world, and I want you to know the same thing, I use a sentence whose meaning conveys this knowledge. \n",
    "\n",
    "But what is such *knowledge about the world*? It must be almost unimaginably complex &emdash; it would be very difficult, for instance, to write down everything you know about the world. On the other hand, it also must be incomplete: no one knows everything about the world. Instead, we store some sort of imperfect *model* of the world in our minds.\n",
    "\n",
    "Similarly, we can begin our exploration of semantics with imperfect models of the world (or perhaps models of human *models* of the world!). To that end we will make the simplying assumption that knowledge of the world can be modeled using *relations* over *individuals*.\n",
    "\n",
    "## Individuals\n",
    "Every thing in the world is an individual. For example:\n",
    "* Me\n",
    "* You\n",
    "* This notebook\n",
    "* Each blade of grass on planet earth\n",
    "\n",
    "For now, we will concern ourselves with concrete individuals, but there is no reason why we could not also include more abstract items, such as last Tuesday and the realization that I love Semantics, as individuals.\n",
    "\n",
    "### Representing individuals\n",
    "In these notebooks, we will represent individuals as single capital letters (in the Latin alphabet). Of course, there are more than 26 individuals in the world, but our examples will always be restricted in practice to a handleful at a time, so 26 will suffice. The set of individuals in a model is known as its *domain*, and hence our domain will be the set of letters from `A` to `Z`. \n",
    "\n",
    "Phosphorus allows us to abbreviate this range using an ellipsis of either two (`..`) or three (`...`) dots, as shown below. Ellipses can define sets or tuples."
   ]
  },
  {
   "cell_type": "code",
   "execution_count": 9,
   "id": "accomplished-singing",
   "metadata": {},
   "outputs": [
    {
     "data": {
      "text/html": [
       "{X, D, T, C, E, K, I, S, G, O, Y, Z, R, W, J, P, A, B, V, L, H, N, F, U, M, Q}<span style='float:right; font-family:monospace; font-weight:bold; background-color:#e5e5ff'>{}</span>"
      ],
      "text/plain": [
       "{X, D, T, C, E, K, I, S, G, O, Y, Z, R, W, J, P, A, B, V, L, H, N, F, U, M, Q}"
      ]
     },
     "execution_count": 9,
     "metadata": {},
     "output_type": "execute_result"
    },
    {
     "data": {
      "text/html": [
       "{X, D, T, C, E, K, I, S, G, O, Y, Z, R, W, J, P, A, B, V, L, H, N, F, U, M, Q}<span style='float:right; font-family:monospace; font-weight:bold; background-color:#e5e5ff'>{}</span>"
      ],
      "text/plain": [
       "{X, D, T, C, E, K, I, S, G, O, Y, Z, R, W, J, P, A, B, V, L, H, N, F, U, M, Q}"
      ]
     },
     "execution_count": 9,
     "metadata": {},
     "output_type": "execute_result"
    },
    {
     "data": {
      "text/html": [
       "{X, D, T, C, E, K, I, S, G, O, Y, Z, R, W, J, P, A, B, V, L, H, N, F, U, M, Q}<span style='float:right; font-family:monospace; font-weight:bold; background-color:#e5e5ff'>{}</span>"
      ],
      "text/plain": [
       "{X, D, T, C, E, K, I, S, G, O, Y, Z, R, W, J, P, A, B, V, L, H, N, F, U, M, Q}"
      ]
     },
     "execution_count": 9,
     "metadata": {},
     "output_type": "execute_result"
    },
    {
     "data": {
      "text/html": [
       "⟨A, B, C, D, E, F, G, H, I, J, K, L, M, N, O, P, Q, R, S, T, U, V, W, X, Y, Z⟩<span style='float:right; font-family:monospace; font-weight:bold; background-color:#e5e5ff'>⟨⟩</span>"
      ],
      "text/plain": [
       "⟨A, B, C, D, E, F, G, H, I, J, K, L, M, N, O, P, Q, R, S, T, U, V, W, X, Y, Z⟩"
      ]
     },
     "execution_count": 9,
     "metadata": {},
     "output_type": "execute_result"
    }
   ],
   "source": [
    "{A, B, C, D, E, F, G, H, I, J, K, L, M, N, O, P, Q, R, S, T, U, V, W, X, Y, Z}\n",
    "{A..Z}\n",
    "{A...Z}\n",
    "[A..Z]"
   ]
  },
  {
   "cell_type": "markdown",
   "id": "coral-ferry",
   "metadata": {},
   "source": [
    "### Variables\n",
    "Even with the ellipsis notation, it can be tedious to write out the domain every time we want to use it. Instead, we can assign this set as the value of a *variable*. A variable looks just like a constant (one without quotes), but it does not evaluate to its own name; rather, it retrieves a value set earlier. Python assigns values to variables using the single equal sign operator `=`. Note that assignments are a special type of python code called a `statement` that produces no output, but performs some action. In this case, the action is assigning a value to a variable. Python can also delete variables using the keyword `del` as in `del DOMAIN`.\n",
    "\n",
    "> &#129300; What happens if you run the next cell twice? Why?"
   ]
  },
  {
   "cell_type": "code",
   "execution_count": 12,
   "id": "fuzzy-measurement",
   "metadata": {},
   "outputs": [
    {
     "data": {
      "text/html": [
       "{X, D, T, C, E, K, I, S, G, O, Y, Z, R, W, J, P, A, B, V, L, H, N, F, U, M, Q}<span style='float:right; font-family:monospace; font-weight:bold; background-color:#e5e5ff'>{}</span>"
      ],
      "text/plain": [
       "{X, D, T, C, E, K, I, S, G, O, Y, Z, R, W, J, P, A, B, V, L, H, N, F, U, M, Q}"
      ]
     },
     "execution_count": 12,
     "metadata": {},
     "output_type": "execute_result"
    },
    {
     "data": {
      "text/html": [
       "{X, D, T, C, E, K, I, S, G, O, Y, Z, R, W, J, P, A, B, V, L, H, N, F, U, M, Q}<span style='float:right; font-family:monospace; font-weight:bold; background-color:#e5e5ff'>{}</span>"
      ],
      "text/plain": [
       "{X, D, T, C, E, K, I, S, G, O, Y, Z, R, W, J, P, A, B, V, L, H, N, F, U, M, Q}"
      ]
     },
     "execution_count": 12,
     "metadata": {},
     "output_type": "execute_result"
    }
   ],
   "source": [
    "DOMAIN          # before assignment, this is a constant, evaluating to its own name\n",
    "DOMAIN = {A..Z} # this line produces no output\n",
    "DOMAIN          # afterwards, DOMAIN evaluates to its value"
   ]
  },
  {
   "cell_type": "markdown",
   "id": "concrete-greek",
   "metadata": {},
   "source": [
    "## Relations\n",
    "\n",
    "The mathematical definition of a *relation* is simply a set of tuples. If the tuples in a relation only contain individuals, we call it a relation *over* individuals.\n",
    "\n",
    "### Two-place relations\n",
    "We will use this notation to encode relations/relationships among individuals in the non-technical sense. For instance, consider the following family tree below. By convention we will associate each person with the individual capital letter that begins their name. (Recall that `\\` indicates that the same line continues after the line break.)"
   ]
  },
  {
   "cell_type": "code",
   "execution_count": 17,
   "id": "quick-madagascar",
   "metadata": {},
   "outputs": [
    {
     "data": {
      "image/svg+xml": [
       "<?xml version=\"1.0\" encoding=\"UTF-8\" standalone=\"no\"?>\r\n",
       "<!DOCTYPE svg PUBLIC \"-//W3C//DTD SVG 1.1//EN\"\r\n",
       " \"http://www.w3.org/Graphics/SVG/1.1/DTD/svg11.dtd\">\r\n",
       "<!-- Generated by graphviz version 2.38.0 (20140413.2041)\r\n",
       " -->\r\n",
       "<!-- Title: %3 Pages: 1 -->\r\n",
       "<svg width=\"192pt\" height=\"84pt\"\r\n",
       " viewBox=\"0.00 0.00 192.00 84.00\" xmlns=\"http://www.w3.org/2000/svg\" xmlns:xlink=\"http://www.w3.org/1999/xlink\">\r\n",
       "<g id=\"graph0\" class=\"graph\" transform=\"scale(1 1) rotate(0) translate(4 80)\">\r\n",
       "<title>%3</title>\r\n",
       "<polygon fill=\"white\" stroke=\"none\" points=\"-4,4 -4,-80 188,-80 188,4 -4,4\"/>\r\n",
       "<!-- 2209971058384 -->\r\n",
       "<g id=\"node1\" class=\"node\"><title>2209971058384</title>\r\n",
       "<text text-anchor=\"middle\" x=\"124\" y=\"-63.9\" font-family=\"Times New Roman,serif\" font-size=\"12.00\">Aaliyah</text>\r\n",
       "</g>\r\n",
       "<!-- 2209984383392 -->\r\n",
       "<g id=\"node2\" class=\"node\"><title>2209984383392</title>\r\n",
       "<text text-anchor=\"middle\" x=\"92\" y=\"-34.9\" font-family=\"Times New Roman,serif\" font-size=\"12.00\">Belinda</text>\r\n",
       "</g>\r\n",
       "<!-- 2209971058384&#45;&#45;2209984383392 -->\r\n",
       "<g id=\"edge1\" class=\"edge\"><title>2209971058384:s&#45;&#45;2209984383392:n</title>\r\n",
       "<path fill=\"none\" stroke=\"black\" d=\"M124,-58C124,-58 92,-47 92,-47\"/>\r\n",
       "</g>\r\n",
       "<!-- 2209984388672 -->\r\n",
       "<g id=\"node5\" class=\"node\"><title>2209984388672</title>\r\n",
       "<text text-anchor=\"middle\" x=\"157\" y=\"-34.9\" font-family=\"Times New Roman,serif\" font-size=\"12.00\">Charlotte</text>\r\n",
       "</g>\r\n",
       "<!-- 2209971058384&#45;&#45;2209984388672 -->\r\n",
       "<g id=\"edge4\" class=\"edge\"><title>2209971058384:s&#45;&#45;2209984388672:n</title>\r\n",
       "<path fill=\"none\" stroke=\"black\" d=\"M124,-58C124,-58 157,-47 157,-47\"/>\r\n",
       "</g>\r\n",
       "<!-- 2209984385600 -->\r\n",
       "<g id=\"node3\" class=\"node\"><title>2209984385600</title>\r\n",
       "<text text-anchor=\"middle\" x=\"27\" y=\"-5.9\" font-family=\"Times New Roman,serif\" font-size=\"12.00\">Delia</text>\r\n",
       "</g>\r\n",
       "<!-- 2209984383392&#45;&#45;2209984385600 -->\r\n",
       "<g id=\"edge2\" class=\"edge\"><title>2209984383392:s&#45;&#45;2209984385600:n</title>\r\n",
       "<path fill=\"none\" stroke=\"black\" d=\"M92,-29C92,-29 27,-18 27,-18\"/>\r\n",
       "</g>\r\n",
       "<!-- 2209984388928 -->\r\n",
       "<g id=\"node4\" class=\"node\"><title>2209984388928</title>\r\n",
       "<text text-anchor=\"middle\" x=\"92\" y=\"-5.9\" font-family=\"Times New Roman,serif\" font-size=\"12.00\">Ebony</text>\r\n",
       "</g>\r\n",
       "<!-- 2209984383392&#45;&#45;2209984388928 -->\r\n",
       "<g id=\"edge3\" class=\"edge\"><title>2209984383392:s&#45;&#45;2209984388928:n</title>\r\n",
       "<path fill=\"none\" stroke=\"black\" d=\"M92,-29C92,-29 92,-18 92,-18\"/>\r\n",
       "</g>\r\n",
       "<!-- 2209984387904 -->\r\n",
       "<g id=\"node6\" class=\"node\"><title>2209984387904</title>\r\n",
       "<text text-anchor=\"middle\" x=\"157\" y=\"-5.9\" font-family=\"Times New Roman,serif\" font-size=\"12.00\">Frida</text>\r\n",
       "</g>\r\n",
       "<!-- 2209984388672&#45;&#45;2209984387904 -->\r\n",
       "<g id=\"edge5\" class=\"edge\"><title>2209984388672:s&#45;&#45;2209984387904:n</title>\r\n",
       "<path fill=\"none\" stroke=\"black\" d=\"M157,-29C157,-29 157,-18 157,-18\"/>\r\n",
       "</g>\r\n",
       "</g>\r\n",
       "</svg>\r\n"
      ],
      "text/html": [
       "<?xml version=\"1.0\" encoding=\"UTF-8\" standalone=\"no\"?>\r\n",
       "<!DOCTYPE svg PUBLIC \"-//W3C//DTD SVG 1.1//EN\"\r\n",
       " \"http://www.w3.org/Graphics/SVG/1.1/DTD/svg11.dtd\">\r\n",
       "<!-- Generated by graphviz version 2.38.0 (20140413.2041)\r\n",
       " -->\r\n",
       "<!-- Title: %3 Pages: 1 -->\r\n",
       "<svg width=\"192pt\" height=\"84pt\"\r\n",
       " viewBox=\"0.00 0.00 192.00 84.00\" xmlns=\"http://www.w3.org/2000/svg\" xmlns:xlink=\"http://www.w3.org/1999/xlink\">\r\n",
       "<g id=\"graph0\" class=\"graph\" transform=\"scale(1 1) rotate(0) translate(4 80)\">\r\n",
       "<title>%3</title>\r\n",
       "<polygon fill=\"white\" stroke=\"none\" points=\"-4,4 -4,-80 188,-80 188,4 -4,4\"/>\r\n",
       "<!-- 2209971058384 -->\r\n",
       "<g id=\"node1\" class=\"node\"><title>2209971058384</title>\r\n",
       "<text text-anchor=\"middle\" x=\"124\" y=\"-63.9\" font-family=\"Times New Roman,serif\" font-size=\"12.00\">Aaliyah</text>\r\n",
       "</g>\r\n",
       "<!-- 2209984383392 -->\r\n",
       "<g id=\"node2\" class=\"node\"><title>2209984383392</title>\r\n",
       "<text text-anchor=\"middle\" x=\"92\" y=\"-34.9\" font-family=\"Times New Roman,serif\" font-size=\"12.00\">Belinda</text>\r\n",
       "</g>\r\n",
       "<!-- 2209971058384&#45;&#45;2209984383392 -->\r\n",
       "<g id=\"edge1\" class=\"edge\"><title>2209971058384:s&#45;&#45;2209984383392:n</title>\r\n",
       "<path fill=\"none\" stroke=\"black\" d=\"M124,-58C124,-58 92,-47 92,-47\"/>\r\n",
       "</g>\r\n",
       "<!-- 2209984388672 -->\r\n",
       "<g id=\"node5\" class=\"node\"><title>2209984388672</title>\r\n",
       "<text text-anchor=\"middle\" x=\"157\" y=\"-34.9\" font-family=\"Times New Roman,serif\" font-size=\"12.00\">Charlotte</text>\r\n",
       "</g>\r\n",
       "<!-- 2209971058384&#45;&#45;2209984388672 -->\r\n",
       "<g id=\"edge4\" class=\"edge\"><title>2209971058384:s&#45;&#45;2209984388672:n</title>\r\n",
       "<path fill=\"none\" stroke=\"black\" d=\"M124,-58C124,-58 157,-47 157,-47\"/>\r\n",
       "</g>\r\n",
       "<!-- 2209984385600 -->\r\n",
       "<g id=\"node3\" class=\"node\"><title>2209984385600</title>\r\n",
       "<text text-anchor=\"middle\" x=\"27\" y=\"-5.9\" font-family=\"Times New Roman,serif\" font-size=\"12.00\">Delia</text>\r\n",
       "</g>\r\n",
       "<!-- 2209984383392&#45;&#45;2209984385600 -->\r\n",
       "<g id=\"edge2\" class=\"edge\"><title>2209984383392:s&#45;&#45;2209984385600:n</title>\r\n",
       "<path fill=\"none\" stroke=\"black\" d=\"M92,-29C92,-29 27,-18 27,-18\"/>\r\n",
       "</g>\r\n",
       "<!-- 2209984388928 -->\r\n",
       "<g id=\"node4\" class=\"node\"><title>2209984388928</title>\r\n",
       "<text text-anchor=\"middle\" x=\"92\" y=\"-5.9\" font-family=\"Times New Roman,serif\" font-size=\"12.00\">Ebony</text>\r\n",
       "</g>\r\n",
       "<!-- 2209984383392&#45;&#45;2209984388928 -->\r\n",
       "<g id=\"edge3\" class=\"edge\"><title>2209984383392:s&#45;&#45;2209984388928:n</title>\r\n",
       "<path fill=\"none\" stroke=\"black\" d=\"M92,-29C92,-29 92,-18 92,-18\"/>\r\n",
       "</g>\r\n",
       "<!-- 2209984387904 -->\r\n",
       "<g id=\"node6\" class=\"node\"><title>2209984387904</title>\r\n",
       "<text text-anchor=\"middle\" x=\"157\" y=\"-5.9\" font-family=\"Times New Roman,serif\" font-size=\"12.00\">Frida</text>\r\n",
       "</g>\r\n",
       "<!-- 2209984388672&#45;&#45;2209984387904 -->\r\n",
       "<g id=\"edge5\" class=\"edge\"><title>2209984388672:s&#45;&#45;2209984387904:n</title>\r\n",
       "<path fill=\"none\" stroke=\"black\" d=\"M157,-29C157,-29 157,-18 157,-18\"/>\r\n",
       "</g>\r\n",
       "</g>\r\n",
       "</svg>\r\n",
       "<span style='float:right; font-family:monospace; font-weight:bold; background-color:#e5e5ff'>tree</span>"
      ],
      "text/plain": [
       "<?xml version=\"1.0\" encoding=\"UTF-8\" standalone=\"no\"?>\n",
       "<!DOCTYPE svg PUBLIC \"-//W3C//DTD SVG 1.1//EN\"\n",
       " \"http://www.w3.org/Graphics/SVG/1.1/DTD/svg11.dtd\">\n",
       "<!-- Generated by graphviz version 2.38.0 (20140413.2041)\n",
       " -->\n",
       "<!-- Title: %3 Pages: 1 -->\n",
       "<svg width=\"192pt\" height=\"84pt\"\n",
       " viewBox=\"0.00 0.00 192.00 84.00\" xmlns=\"http://www.w3.org/2000/svg\" xmlns:xlink=\"http://www.w3.org/1999/xlink\">\n",
       "<g id=\"graph0\" class=\"graph\" transform=\"scale(1 1) rotate(0) translate(4 80)\">\n",
       "<title>%3</title>\n",
       "<polygon fill=\"white\" stroke=\"none\" points=\"-4,4 -4,-80 188,-80 188,4 -4,4\"/>\n",
       "<!-- 2209971058384 -->\n",
       "<g id=\"node1\" class=\"node\"><title>2209971058384</title>\n",
       "<text text-anchor=\"middle\" x=\"124\" y=\"-63.9\" font-family=\"Times New Roman,serif\" font-size=\"12.00\">Aaliyah</text>\n",
       "</g>\n",
       "<!-- 2209984383392 -->\n",
       "<g id=\"node2\" class=\"node\"><title>2209984383392</title>\n",
       "<text text-anchor=\"middle\" x=\"92\" y=\"-34.9\" font-family=\"Times New Roman,serif\" font-size=\"12.00\">Belinda</text>\n",
       "</g>\n",
       "<!-- 2209971058384&#45;&#45;2209984383392 -->\n",
       "<g id=\"edge1\" class=\"edge\"><title>2209971058384:s&#45;&#45;2209984383392:n</title>\n",
       "<path fill=\"none\" stroke=\"black\" d=\"M124,-58C124,-58 92,-47 92,-47\"/>\n",
       "</g>\n",
       "<!-- 2209984388672 -->\n",
       "<g id=\"node5\" class=\"node\"><title>2209984388672</title>\n",
       "<text text-anchor=\"middle\" x=\"157\" y=\"-34.9\" font-family=\"Times New Roman,serif\" font-size=\"12.00\">Charlotte</text>\n",
       "</g>\n",
       "<!-- 2209971058384&#45;&#45;2209984388672 -->\n",
       "<g id=\"edge4\" class=\"edge\"><title>2209971058384:s&#45;&#45;2209984388672:n</title>\n",
       "<path fill=\"none\" stroke=\"black\" d=\"M124,-58C124,-58 157,-47 157,-47\"/>\n",
       "</g>\n",
       "<!-- 2209984385600 -->\n",
       "<g id=\"node3\" class=\"node\"><title>2209984385600</title>\n",
       "<text text-anchor=\"middle\" x=\"27\" y=\"-5.9\" font-family=\"Times New Roman,serif\" font-size=\"12.00\">Delia</text>\n",
       "</g>\n",
       "<!-- 2209984383392&#45;&#45;2209984385600 -->\n",
       "<g id=\"edge2\" class=\"edge\"><title>2209984383392:s&#45;&#45;2209984385600:n</title>\n",
       "<path fill=\"none\" stroke=\"black\" d=\"M92,-29C92,-29 27,-18 27,-18\"/>\n",
       "</g>\n",
       "<!-- 2209984388928 -->\n",
       "<g id=\"node4\" class=\"node\"><title>2209984388928</title>\n",
       "<text text-anchor=\"middle\" x=\"92\" y=\"-5.9\" font-family=\"Times New Roman,serif\" font-size=\"12.00\">Ebony</text>\n",
       "</g>\n",
       "<!-- 2209984383392&#45;&#45;2209984388928 -->\n",
       "<g id=\"edge3\" class=\"edge\"><title>2209984383392:s&#45;&#45;2209984388928:n</title>\n",
       "<path fill=\"none\" stroke=\"black\" d=\"M92,-29C92,-29 92,-18 92,-18\"/>\n",
       "</g>\n",
       "<!-- 2209984387904 -->\n",
       "<g id=\"node6\" class=\"node\"><title>2209984387904</title>\n",
       "<text text-anchor=\"middle\" x=\"157\" y=\"-5.9\" font-family=\"Times New Roman,serif\" font-size=\"12.00\">Frida</text>\n",
       "</g>\n",
       "<!-- 2209984388672&#45;&#45;2209984387904 -->\n",
       "<g id=\"edge5\" class=\"edge\"><title>2209984388672:s&#45;&#45;2209984387904:n</title>\n",
       "<path fill=\"none\" stroke=\"black\" d=\"M157,-29C157,-29 157,-18 157,-18\"/>\n",
       "</g>\n",
       "</g>\n",
       "</svg>"
      ]
     },
     "execution_count": 17,
     "metadata": {},
     "output_type": "execute_result"
    }
   ],
   "source": [
    "tree[_Aaliyah \\\n",
    "         [_Belinda [_Delia] [_Ebony]] \\\n",
    "         [_Charlotte [_Frida]] \\\n",
    "    ]"
   ]
  },
  {
   "cell_type": "markdown",
   "id": "boxed-elite",
   "metadata": {},
   "source": [
    "We can capture information about this tree using relations, as shown in the following cell. Recall that you may type `⟨` and `⟩` by entering `\\<` and `\\>` followed by `Tab`. Alternatively, you can enter tuples using `[` and `]` or `(` and `)`, although see below for a note about using parentheses `()`.\n",
    "> &#129300; Why does the `SISTER` relation contain both orders of its pairs? E.g., why does it contain both `⟨D,E⟩` and `⟨E,D⟩`?\n",
    ">\n",
    ">&#129300; Write out the `GRANDMOTHER` and `DAUGHTER` relations.\n"
   ]
  },
  {
   "cell_type": "code",
   "execution_count": 23,
   "id": "allied-electric",
   "metadata": {},
   "outputs": [],
   "source": [
    "MOTHER = {⟨A,B⟩, ⟨A,C⟩, ⟨B,D⟩, ⟨B,E⟩, ⟨C,F⟩}\n",
    "SISTER = {⟨D,E⟩, ⟨E,D⟩, ⟨B,C⟩, ⟨C,B⟩}"
   ]
  },
  {
   "cell_type": "markdown",
   "id": "successful-surgery",
   "metadata": {},
   "source": [
    "### Relation arity\n",
    "Relations need not only contain pairs. For instance, imagine that the mothers above each assign their children to give a secret gift to a sibling or cousin. We could represent those assignments using a relation over triples of individuals like `ASSIGNED` below. We will also allow relations over singletons like `PERSON` and even relations over zero-place tuples like `SUNNY` and `RAINY`. The length of the tuples in a relation is called its *arity*.\n",
    "\n",
    "**Notes** \n",
    "- Python (and hence phosphorus) doesn't allow you to enter one- and zero-place tuples using parentheses `()`. You can use angle brackets `⟨⟩` or square brackets `[]` for these smaller tuples.\n",
    "- We will often abbreviate relations of arity 1 (relations over singletons) as simple sets of individuals.\n",
    "\n",
    "> 🤔 Why is `PERSON` a relation over singletons?\n",
    ">\n",
    "> 🤔 What does it mean for `SUNNY` and `RAINY` to be relations over empty tuples?"
   ]
  },
  {
   "cell_type": "code",
   "execution_count": 28,
   "id": "local-vault",
   "metadata": {},
   "outputs": [],
   "source": [
    "ASSIGNED = {⟨A,B,C⟩, ⟨A,C,B⟩, ⟨B,D,E⟩, ⟨B,E,F⟩, ⟨C,F,D⟩} # arity 3\n",
    "PERSON   = {⟨A⟩, ⟨B⟩, ⟨C⟩, ⟨D⟩, ⟨E⟩, ⟨F⟩}                # arity 1\n",
    "SUNNY    = {⟨⟩}                                       # arity 0\n",
    "RAINY    = {}                                        # arity 0\n",
    "\n",
    "#Abbreviation/Simplification of PERSON:\n",
    "PERSON   = {A, B, C, D, E, F}"
   ]
  },
  {
   "cell_type": "code",
   "execution_count": null,
   "id": "boxed-server",
   "metadata": {},
   "outputs": [],
   "source": []
  }
 ],
 "metadata": {
  "kernelspec": {
   "display_name": "Python 3",
   "language": "python",
   "name": "python3"
  },
  "language_info": {
   "codemirror_mode": {
    "name": "ipython",
    "version": 3
   },
   "file_extension": ".py",
   "mimetype": "text/x-python",
   "name": "python",
   "nbconvert_exporter": "python",
   "pygments_lexer": "ipython3",
   "version": "3.8.6"
  }
 },
 "nbformat": 4,
 "nbformat_minor": 5
}
