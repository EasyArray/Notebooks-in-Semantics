{
 "cells": [
  {
   "cell_type": "code",
   "execution_count": null,
   "id": "banned-detroit",
   "metadata": {},
   "outputs": [],
   "source": [
    "%load_ext phosphorus"
   ]
  },
  {
   "cell_type": "markdown",
   "id": "premier-guatemala",
   "metadata": {},
   "source": [
    "# Models\n",
    "\n",
    "We can consider meanings ways of conveying information about the world. In other worlds, when I know something about the world, and I want you to know the same thing, I use a sentence whose meaning conveys this knowledge. \n",
    "\n",
    "But what is such *knowledge about the world*? It must be almost unimaginably complex &emdash; it would be very difficult, for instance, to write down everything you know about the world. On the other hand, it also must be incomplete: no one knows everything about the world. Instead, we store some sort of imperfect *model* of the world in our minds.\n",
    "\n",
    "Similarly, we can begin our exploration of semantics with imperfect models of the world (or perhaps models of human *models* of the world!). To that end we will make the simplying assumption that knowledge of the world can be modeled using *relations* over *individuals*.\n",
    "\n",
    "## Individuals\n",
    "Every thing in the world is an individual. For example:\n",
    "* Me\n",
    "* You\n",
    "* This notebook\n",
    "* Each blade of grass on planet earth\n",
    "\n",
    "For now, we will concern ourselves with concrete individuals, but there is no reason why we could not also include more abstract items, such as last Tuesday and the realization that I love Semantics, as individuals.\n",
    "\n",
    "### Representing individuals\n",
    "In these notebooks, we will represent individuals as single capital letters (in the Latin alphabet). Of course, there are more than 26 individuals in the world, but our examples will always be restricted in practice to a handleful at a time, so 26 will suffice. The set of individuals in a model is known as its *domain*, and hence our domain will be the set of letters from `A` to `Z`. \n",
    "\n",
    "Phosphorus allows us to abbreviate this range using an ellipsis of either two (`..`) or three (`...`) dots, as shown below. Ellipses can define sets or tuples."
   ]
  },
  {
   "cell_type": "code",
   "execution_count": null,
   "id": "complicated-sellers",
   "metadata": {},
   "outputs": [],
   "source": [
    "{A, B, C, D, E, F, G, H, I, J, K, L, M, N, O, P, Q, R, S, T, U, V, W, X, Y, Z}\n",
    "{A..Z}\n",
    "{A...Z}\n",
    "[A..Z]"
   ]
  },
  {
   "cell_type": "markdown",
   "id": "eligible-importance",
   "metadata": {},
   "source": [
    "### Variables\n",
    "Even with the ellipsis notation, it can be tedious to write out the domain every time we want to use it. Instead, we can assign this set as the value of a *variable*. A variable looks just like a constant (one without quotes), but it does not evaluate to its own name; rather, it retrieves a value set earlier. Python assigns values to variables using the single equal sign operator `=`. Note that assignments are a special type of python code called a `statement` that produces no output, but performs some action. In this case, the action is assigning a value to a variable. Python can also delete variables using the keyword `del` as in `del DOMAIN`.\n",
    "\n",
    "> &#129300; What happens if you run the next cell twice? Why?"
   ]
  },
  {
   "cell_type": "code",
   "execution_count": null,
   "id": "original-scout",
   "metadata": {},
   "outputs": [],
   "source": [
    "DOMAIN          # before assignment, this is a constant, evaluating to its own name\n",
    "DOMAIN = {A..Z} # this line produces no output\n",
    "DOMAIN          # afterwards, DOMAIN evaluates to its value"
   ]
  },
  {
   "cell_type": "markdown",
   "id": "pleasant-mathematics",
   "metadata": {},
   "source": [
    "## Relations\n",
    "\n",
    "The mathematical definition of a *relation* is simply a set of tuples. If the tuples in a relation only contain individuals, we call it a relation *over* individuals.\n",
    "\n",
    "### Two-place relations\n",
    "We will use this notation to encode relations/relationships among individuals in the non-technical sense. For instance, consider the following family tree below. By convention we will associate each person with the individual capital letter that begins their name. (Recall that `\\` indicates that the same line continues after the line break.)"
   ]
  },
  {
   "cell_type": "code",
   "execution_count": null,
   "id": "threatened-lobby",
   "metadata": {},
   "outputs": [],
   "source": [
    "tree[_Aaliyah \\\n",
    "         [_Belinda [_Delia] [_Ebony]] \\\n",
    "         [_Charlotte [_Frida]] \\\n",
    "    ]"
   ]
  },
  {
   "cell_type": "markdown",
   "id": "optical-weekly",
   "metadata": {},
   "source": [
    "We can capture information about this tree using relations, as shown in the following cell. Recall that you may type `⟨` and `⟩` by entering `\\<` and `\\>` followed by `Tab`. Alternatively, you can enter tuples using `[` and `]` or `(` and `)`, although see below for a note about using parentheses `()`.\n",
    "> &#129300; Why does the `SISTER` relation contain both orders of its pairs? E.g., why does it contain both `⟨D,E⟩` and `⟨E,D⟩`?\n",
    ">\n",
    ">&#129300; Write out the `GRANDMOTHER` and `DAUGHTER` relations.\n"
   ]
  },
  {
   "cell_type": "code",
   "execution_count": null,
   "id": "prime-replication",
   "metadata": {},
   "outputs": [],
   "source": [
    "MOTHER = {⟨A,B⟩, ⟨A,C⟩, ⟨B,D⟩, ⟨B,E⟩, ⟨C,F⟩}\n",
    "SISTER = {⟨D,E⟩, ⟨E,D⟩, ⟨B,C⟩, ⟨C,B⟩}"
   ]
  },
  {
   "cell_type": "markdown",
   "id": "stock-forwarding",
   "metadata": {},
   "source": [
    "### Relation arity\n",
    "Relations need not only contain pairs. For instance, imagine that the mothers above each assign their children to give a secret gift to a sibling or cousin. We could represent those assignments using a relation over triples of individuals like `ASSIGNED` below. We will also allow relations over singletons like `PERSON` and even relations over zero-place tuples like `SUNNY` and `RAINY`. The length of the tuples in a relation is called its *arity*.\n",
    "\n",
    "**Notes** \n",
    "- Python (and hence phosphorus) doesn't allow you to enter one- and zero-place tuples using parentheses `()`. You can use angle brackets `⟨⟩` or square brackets `[]` for these smaller tuples.\n",
    "- We will often abbreviate relations of arity 1 (relations over singletons) as simple sets of individuals.\n",
    "\n",
    "> 🤔 Why is `PERSON` a relation over singletons?\n",
    ">\n",
    "> 🤔 What does it mean for `SUNNY` and `RAINY` to be relations over empty tuples?"
   ]
  },
  {
   "cell_type": "code",
   "execution_count": null,
   "id": "grand-fighter",
   "metadata": {},
   "outputs": [],
   "source": [
    "ASSIGNED = {⟨A,B,C⟩, ⟨A,C,B⟩, ⟨B,D,E⟩, ⟨B,E,F⟩, ⟨C,F,D⟩} # arity 3\n",
    "PERSON   = {⟨A⟩, ⟨B⟩, ⟨C⟩, ⟨D⟩, ⟨E⟩, ⟨F⟩}                 # arity 1\n",
    "SUNNY    = {⟨⟩}                                        # arity 0\n",
    "RAINY    = {}                                         # arity 0\n",
    "\n",
    "#Abbreviation/Simplification of PERSON:\n",
    "PERSON   = {A, B, C, D, E, F}"
   ]
  },
  {
   "cell_type": "code",
   "execution_count": null,
   "id": "direct-therapy",
   "metadata": {},
   "outputs": [],
   "source": []
  }
 ],
 "metadata": {
  "kernelspec": {
   "display_name": "Python 3",
   "language": "python",
   "name": "python3"
  },
  "language_info": {
   "codemirror_mode": {
    "name": "ipython",
    "version": 3
   },
   "file_extension": ".py",
   "mimetype": "text/x-python",
   "name": "python",
   "nbconvert_exporter": "python",
   "pygments_lexer": "ipython3",
   "version": "3.8.6"
  }
 },
 "nbformat": 4,
 "nbformat_minor": 5
}
