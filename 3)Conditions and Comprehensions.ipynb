{
 "cells": [
  {
   "cell_type": "code",
   "execution_count": null,
   "id": "described-trustee",
   "metadata": {},
   "outputs": [],
   "source": [
    "# Uncomment if necessary:\n",
    "#%load_ext phosphorus"
   ]
  },
  {
   "cell_type": "markdown",
   "id": "fitted-resort",
   "metadata": {},
   "source": [
    "# Conditions & Comphrensions\n",
    "\n",
    "\n",
    "## True / False expressions\n",
    "The most basic way to describe a condition in python is an expression that is either true or false, known as a *boolean expression*. Python comes with two special values `True` and `False`, and several operators that return these values, as shown below. Notice that testing for equality requires two equal signs (since one equal sign is reserved for assigning a value to a variable)."
   ]
  },
  {
   "cell_type": "code",
   "execution_count": null,
   "id": "operating-central",
   "metadata": {},
   "outputs": [],
   "source": [
    "True\n",
    "False\n",
    "not True\n",
    "not False"
   ]
  },
  {
   "cell_type": "code",
   "execution_count": null,
   "id": "iraqi-antigua",
   "metadata": {},
   "outputs": [],
   "source": [
    "1 == 1 # IMPORTANT! Use TWO equal signs.\n",
    "1 < 1\n",
    "1 < 2\n",
    "1 > 2\n",
    "1 > 0\n",
    "1 >= 0 # GREATER THAN OR EQUAL TO\n",
    "1 != 0 # NOT EQUAL TO"
   ]
  },
  {
   "cell_type": "markdown",
   "id": "random-calgary",
   "metadata": {},
   "source": [
    "The python `in` operator tests for membership in a set or tuple. Phosphorus allows the use of the mathematical `∈` (element of) operator for this purpose as well. To type `∈`, simply enter `\\in` and then hit `Tab`."
   ]
  },
  {
   "cell_type": "code",
   "execution_count": null,
   "id": "instructional-relevance",
   "metadata": {},
   "outputs": [],
   "source": [
    "3 in [1,2,3]\n",
    "3 ∈ [1,2,3]\n",
    "4 in {1,2,3}\n",
    "4 ∈ {1,2,3}"
   ]
  },
  {
   "cell_type": "markdown",
   "id": "swedish-amendment",
   "metadata": {},
   "source": [
    "## Conditional Expressions\n",
    "\n",
    "One simple way to use boolean expressions is in a *conditional expression*, which has three parts, separated by the keywords `if` and `else`. Between the `if` and `else`, you enter a True/False condtion. The output is the expression at the very beginning if the condition is true, and the expression at the very end if it is false.\n",
    "\n",
    "**NOTE**: python treats most nonzero, nonempty values as `True` and zero and empty values as `False."
   ]
  },
  {
   "cell_type": "code",
   "execution_count": null,
   "id": "tender-cincinnati",
   "metadata": {},
   "outputs": [],
   "source": [
    "\"It was True\" if True else \"It was False\"\n",
    "\"It was True\" if False else \"It was False\"\n",
    "\"It was True\" if 1 > 0 else \"It was False\"\n",
    "\"It was True\" if 1 ∈ {4,5,6} else \"It was False\""
   ]
  },
  {
   "cell_type": "code",
   "execution_count": null,
   "id": "macro-leave",
   "metadata": {},
   "outputs": [],
   "source": [
    "\"It was True\" if 17 else \"It was False\"\n",
    "\"It was True\" if {1,2,3} else \"It was False\"\n",
    "\"It was True\" if [] else \"It was False\""
   ]
  },
  {
   "cell_type": "markdown",
   "id": "brave-begin",
   "metadata": {},
   "source": [
    "## Comprehensions\n",
    "A very simple example of applying a rule comes in the form of a *comprehension*: a special way to form sets and tuples. A comprehension has an output value involving a variable drawn from a set of input values. For instance, the input values for the comprehensions in the following cell are the numbers from 1 to 20. The output value is the same as the input value.\n",
    "\n",
    "Note that the `x` has no meaning outside of the comprehension. It is just an internal name we give to each input value in turn."
   ]
  },
  {
   "cell_type": "code",
   "execution_count": null,
   "id": "proprietary-religion",
   "metadata": {},
   "outputs": [],
   "source": [
    "[x for x in [1..20] ] # python list comprehension\n",
    "[x | x∈[1..20] ]      # phosphorus tuple comprehension\n",
    "\n",
    "{x for x in [1..20] } # python set comprehension\n",
    "{x | x∈[1..20] }      # phosphorus set comprehension"
   ]
  },
  {
   "cell_type": "markdown",
   "id": "suspended-screw",
   "metadata": {},
   "source": [
    "The real power of a comprehension comes from two special features. First, the output values can be complex. And second, we can add conditions on the input values. (`%` is the modulo operator; `m%n` returns the *remainder* after `m` is divided by `n`.)\n",
    "\n",
    "> 🤔 What does the input condition `if x%3` achieve? Why?"
   ]
  },
  {
   "cell_type": "code",
   "execution_count": null,
   "id": "informational-definition",
   "metadata": {},
   "outputs": [],
   "source": [
    "# complex python comprehensions:\n",
    "[x%3 for x in [1..20]]           # a complex output value\n",
    "[x for x in [1..20] if x%3]      # a condition on the input value\n",
    "[2*x+1 for x in [1..20] if x%3]  # both\n",
    "\n",
    "# phosphorus versions of the same comprehensions\n",
    "[x%3 | x ∈ [1..20]]\n",
    "[x | x ∈ [1..20], x%3] # notice the comma ',' instead of the keyword 'if'\n",
    "[2*x+1 | x ∈ [1..20], x%3]"
   ]
  },
  {
   "cell_type": "markdown",
   "id": "material-steel",
   "metadata": {},
   "source": [
    "## Complex Assignments\n",
    "\n",
    "Python allows a very simple form of *pattern matching* in assignments. If you assign a tuple of (only) variables to a same-sized tuple of values, the variables are assigned the corresponding values:"
   ]
  },
  {
   "cell_type": "code",
   "execution_count": null,
   "id": "answering-currency",
   "metadata": {},
   "outputs": [],
   "source": [
    "(a,b,c) = (1,2,3)\n",
    "a\n",
    "b\n",
    "c"
   ]
  },
  {
   "cell_type": "markdown",
   "id": "accompanied-accent",
   "metadata": {},
   "source": [
    "The input values of a comprehension are essentially variable assignments, and therefore they allow the same technique. For instance, the next cell repeats the MOTHER relation from the previous notebook. The comprehension below it reverses all the pairs in the MOTHER relation, to form the DAUGHTER relation.\n",
    "\n",
    "**Notes**:\n",
    "- The relation is written out as a list/tuple this time, to keep the order constant for ease of comparison\n",
    "- The function `header` prints out its input argument as an html header"
   ]
  },
  {
   "cell_type": "code",
   "execution_count": null,
   "id": "transsexual-trauma",
   "metadata": {},
   "outputs": [],
   "source": [
    "MOTHER   = [⟨A,B⟩, ⟨A,C⟩, ⟨B,D⟩, ⟨B,E⟩, ⟨C,F⟩] # ⟨x,y⟩ where x is y's mother\n",
    "\n",
    "header(\"MOTHER:\")\n",
    "MOTHER\n",
    "\n",
    "header(\"DAUGHTER:\")\n",
    "[(y,x) for (x,y) in MOTHER]"
   ]
  },
  {
   "cell_type": "markdown",
   "id": "arabic-shuttle",
   "metadata": {},
   "source": [
    "## Models and Comprehensions\n",
    "The next cell contains a few more comprehensions based on our relations from the model in the previous notebook\n",
    "\n",
    ">🤔 How would you describe the values in these sets?"
   ]
  },
  {
   "cell_type": "code",
   "execution_count": null,
   "id": "constitutional-reducing",
   "metadata": {},
   "outputs": [],
   "source": [
    "MOTHER   = {⟨A,B⟩, ⟨A,C⟩, ⟨B,D⟩, ⟨B,E⟩, ⟨C,F⟩} # ⟨x,y⟩ where x is y's mother\n",
    "SISTER   = {⟨D,E⟩, ⟨E,D⟩, ⟨B,C⟩, ⟨C,B⟩}\n",
    "ASSIGNED = {⟨A,B,C⟩, ⟨A,C,B⟩, ⟨B,D,E⟩, ⟨B,E,F⟩, ⟨C,F,D⟩} #⟨x,y,z⟩ where x assigned y to z\n",
    "PERSON   = {⟨A⟩, ⟨B⟩, ⟨C⟩, ⟨D⟩, ⟨E⟩, ⟨F⟩}                 \n",
    "SUNNY    = {⟨⟩}                                        \n",
    "RAINY    = {}                                         \n",
    "\n",
    "# PUT INTO WORDS what these sets represent:\n",
    "{x | (x,_) ∈ MOTHER} # '_' is a valid variable in python\n",
    "{x | (_,x) ∈ MOTHER}\n",
    "{(x,y) for (z,x,y) in ASSIGNED if z == A}"
   ]
  }
 ],
 "metadata": {
  "kernelspec": {
   "display_name": "Python 3",
   "language": "python",
   "name": "python3"
  },
  "language_info": {
   "codemirror_mode": {
    "name": "ipython",
    "version": 3
   },
   "file_extension": ".py",
   "mimetype": "text/x-python",
   "name": "python",
   "nbconvert_exporter": "python",
   "pygments_lexer": "ipython3",
   "version": "3.8.6"
  }
 },
 "nbformat": 4,
 "nbformat_minor": 5
}
